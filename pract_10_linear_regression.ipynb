{
 "cells": [
  {
   "cell_type": "code",
   "execution_count": 2,
   "id": "7ce4ecd4",
   "metadata": {},
   "outputs": [],
   "source": [
    "from MySimpleLR import MySLR\n",
    "import pandas as pd "
   ]
  },
  {
   "cell_type": "code",
   "execution_count": 4,
   "id": "2b5523f6",
   "metadata": {},
   "outputs": [
    {
     "data": {
      "text/plain": [
       "<MySimpleLR.MySLR at 0x1f1628033a0>"
      ]
     },
     "execution_count": 4,
     "metadata": {},
     "output_type": "execute_result"
    }
   ],
   "source": [
    "lr = MySLR()"
   ]
  },
  {
   "cell_type": "code",
   "execution_count": 5,
   "id": "e6ce6a50",
   "metadata": {},
   "outputs": [],
   "source": [
    "df = pd.read_csv('datasets/IceCreamData.csv')\n",
    "x = df.iloc[:,0].values.reshape(-1,1)\n",
    "y = df.iloc[:,1].values.reshape(-1,1)"
   ]
  },
  {
   "cell_type": "code",
   "execution_count": 6,
   "id": "ad97d470",
   "metadata": {},
   "outputs": [],
   "source": [
    "from sklearn .model_selection import train_test_split"
   ]
  },
  {
   "cell_type": "code",
   "execution_count": 7,
   "id": "310cf33c",
   "metadata": {},
   "outputs": [],
   "source": [
    "x_train,x_test,y_train,y_test = train_test_split(x,y,test_size=0.2,random_state=0)"
   ]
  },
  {
   "cell_type": "code",
   "execution_count": 8,
   "id": "32cd3ec8",
   "metadata": {},
   "outputs": [
    {
     "data": {
      "text/plain": [
       "(100, 1)"
      ]
     },
     "execution_count": 8,
     "metadata": {},
     "output_type": "execute_result"
    }
   ],
   "source": [
    "x_test.shape"
   ]
  },
  {
   "cell_type": "code",
   "execution_count": 9,
   "id": "9e2fd3f2",
   "metadata": {},
   "outputs": [
    {
     "name": "stdout",
     "output_type": "stream",
     "text": [
      "[21.5133908]\n",
      "[43.73357869]\n"
     ]
    }
   ],
   "source": [
    "lr.fit(x_train,y_train)"
   ]
  },
  {
   "cell_type": "code",
   "execution_count": 10,
   "id": "7ff9d102",
   "metadata": {},
   "outputs": [],
   "source": [
    "from sklearn.linear_model import LinearRegression"
   ]
  },
  {
   "cell_type": "code",
   "execution_count": 11,
   "id": "9053f70f",
   "metadata": {},
   "outputs": [],
   "source": [
    "sklr = LinearRegression()"
   ]
  },
  {
   "cell_type": "code",
   "execution_count": 12,
   "id": "3e82271d",
   "metadata": {},
   "outputs": [
    {
     "data": {
      "text/plain": [
       "LinearRegression()"
      ]
     },
     "execution_count": 12,
     "metadata": {},
     "output_type": "execute_result"
    }
   ],
   "source": [
    "sklr.fit(x_train,y_train)"
   ]
  },
  {
   "cell_type": "code",
   "execution_count": 13,
   "id": "bc8d917b",
   "metadata": {},
   "outputs": [
    {
     "data": {
      "text/plain": [
       "array([[21.5133908]])"
      ]
     },
     "execution_count": 13,
     "metadata": {},
     "output_type": "execute_result"
    }
   ],
   "source": [
    "sklr.coef_"
   ]
  },
  {
   "cell_type": "code",
   "execution_count": 14,
   "id": "49cec3d1",
   "metadata": {},
   "outputs": [
    {
     "data": {
      "text/plain": [
       "array([43.73357869])"
      ]
     },
     "execution_count": 14,
     "metadata": {},
     "output_type": "execute_result"
    }
   ],
   "source": [
    "sklr.intercept_"
   ]
  },
  {
   "cell_type": "code",
   "execution_count": 19,
   "id": "a52197a7",
   "metadata": {},
   "outputs": [
    {
     "data": {
      "text/plain": [
       "array([[698.3385558 ],\n",
       "       [653.32331149],\n",
       "       [664.73027451],\n",
       "       [450.5192845 ],\n",
       "       [665.47469743],\n",
       "       [441.36861407],\n",
       "       [584.06540609],\n",
       "       [623.82532723],\n",
       "       [667.48717467],\n",
       "       [468.72433832],\n",
       "       [546.82733151],\n",
       "       [443.41191785],\n",
       "       [622.95162777],\n",
       "       [377.64639971],\n",
       "       [367.0607334 ],\n",
       "       [945.67057977],\n",
       "       [893.79551974],\n",
       "       [694.45445099],\n",
       "       [546.05047608],\n",
       "       [420.58523672],\n",
       "       [391.08500303],\n",
       "       [597.0141581 ],\n",
       "       [283.23582775],\n",
       "       [655.50055011],\n",
       "       [380.98796154],\n",
       "       [412.31810124],\n",
       "       [371.05055651],\n",
       "       [510.23910289],\n",
       "       [479.70270426],\n",
       "       [456.68206658],\n",
       "       [640.1157508 ],\n",
       "       [281.65224383],\n",
       "       [314.1894674 ],\n",
       "       [470.01363777],\n",
       "       [559.72453055],\n",
       "       [539.75091165],\n",
       "       [307.72368191],\n",
       "       [508.65180339],\n",
       "       [571.43237276],\n",
       "       [732.25599161],\n",
       "       [440.44010989],\n",
       "       [494.39422767],\n",
       "       [567.56536766],\n",
       "       [443.94181482],\n",
       "       [914.46632525],\n",
       "       [603.19341879],\n",
       "       [541.83315574],\n",
       "       [199.94980451],\n",
       "       [694.04258508],\n",
       "       [351.09960842],\n",
       "       [189.49123987],\n",
       "       [576.80689646],\n",
       "       [216.55393778],\n",
       "       [468.15141951],\n",
       "       [461.80905978],\n",
       "       [448.43970076],\n",
       "       [494.89418532],\n",
       "       [801.3758273 ],\n",
       "       [331.24527072],\n",
       "       [540.42751209],\n",
       "       [661.1953557 ],\n",
       "       [526.66690494],\n",
       "       [360.66507037],\n",
       "       [451.46656256],\n",
       "       [621.57729407],\n",
       "       [254.83395119],\n",
       "       [290.1749214 ],\n",
       "       [525.5900171 ],\n",
       "       [656.68802152],\n",
       "       [663.1062835 ],\n",
       "       [740.96627734],\n",
       "       [184.48524774],\n",
       "       [593.42653041],\n",
       "       [148.41501952],\n",
       "       [485.97744998],\n",
       "       [611.03624804],\n",
       "       [664.50658946],\n",
       "       [473.51664017],\n",
       "       [785.34682628],\n",
       "       [422.11909846],\n",
       "       [169.76879503],\n",
       "       [820.72328003],\n",
       "       [434.39990573],\n",
       "       [325.82688811],\n",
       "       [660.07484042],\n",
       "       [586.46853445],\n",
       "       [415.89811147],\n",
       "       [651.95510136],\n",
       "       [865.22669518],\n",
       "       [265.88922879],\n",
       "       [577.32110608],\n",
       "       [ 43.73357869],\n",
       "       [901.24435059],\n",
       "       [621.87554173],\n",
       "       [759.07316169],\n",
       "       [465.78060018],\n",
       "       [758.74558525],\n",
       "       [711.30125473],\n",
       "       [394.45680968],\n",
       "       [559.53716333]])"
      ]
     },
     "execution_count": 19,
     "metadata": {},
     "output_type": "execute_result"
    }
   ],
   "source": [
    "y_hat = lr.predict(x_test)\n",
    "y_hat"
   ]
  },
  {
   "cell_type": "code",
   "execution_count": 22,
   "id": "6e9101ba",
   "metadata": {},
   "outputs": [],
   "source": [
    "from sklearn.metrics import mean_absolute_error,mean_squared_error"
   ]
  },
  {
   "cell_type": "code",
   "execution_count": 23,
   "id": "b159c2a0",
   "metadata": {},
   "outputs": [
    {
     "data": {
      "text/plain": [
       "18.30321353010285"
      ]
     },
     "execution_count": 23,
     "metadata": {},
     "output_type": "execute_result"
    }
   ],
   "source": [
    "mean_absolute_error(y_test,y_hat)"
   ]
  },
  {
   "cell_type": "code",
   "execution_count": 26,
   "id": "f84d4c7e",
   "metadata": {},
   "outputs": [
    {
     "data": {
      "text/plain": [
       "528.2150684519324"
      ]
     },
     "execution_count": 26,
     "metadata": {},
     "output_type": "execute_result"
    }
   ],
   "source": [
    "mse = mean_squared_error(y_test,y_hat)\n",
    "mse"
   ]
  },
  {
   "cell_type": "code",
   "execution_count": 27,
   "id": "d7bc9c59",
   "metadata": {},
   "outputs": [
    {
     "data": {
      "text/plain": [
       "22.98292993619248"
      ]
     },
     "execution_count": 27,
     "metadata": {},
     "output_type": "execute_result"
    }
   ],
   "source": [
    "import numpy as np \n",
    "np.sqrt(mse)"
   ]
  },
  {
   "cell_type": "code",
   "execution_count": 28,
   "id": "d597d450",
   "metadata": {},
   "outputs": [],
   "source": [
    "from sklearn.metrics import r2_score"
   ]
  },
  {
   "cell_type": "code",
   "execution_count": 29,
   "id": "1951c93a",
   "metadata": {},
   "outputs": [
    {
     "data": {
      "text/plain": [
       "0.9837324255882577"
      ]
     },
     "execution_count": 29,
     "metadata": {},
     "output_type": "execute_result"
    }
   ],
   "source": [
    "r2 = r2_score(y_test,y_hat)\n",
    "r2"
   ]
  },
  {
   "cell_type": "code",
   "execution_count": null,
   "id": "f7ddffb5",
   "metadata": {},
   "outputs": [],
   "source": []
  }
 ],
 "metadata": {
  "kernelspec": {
   "display_name": "Python 3 (ipykernel)",
   "language": "python",
   "name": "python3"
  },
  "language_info": {
   "codemirror_mode": {
    "name": "ipython",
    "version": 3
   },
   "file_extension": ".py",
   "mimetype": "text/x-python",
   "name": "python",
   "nbconvert_exporter": "python",
   "pygments_lexer": "ipython3",
   "version": "3.9.12"
  }
 },
 "nbformat": 4,
 "nbformat_minor": 5
}
