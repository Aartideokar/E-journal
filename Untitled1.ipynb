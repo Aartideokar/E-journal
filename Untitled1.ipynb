{
 "cells": [
  {
   "cell_type": "code",
   "execution_count": 1,
   "id": "f3d50d89",
   "metadata": {},
   "outputs": [],
   "source": [
    "from sklearn.datasets import make_regression"
   ]
  },
  {
   "cell_type": "code",
   "execution_count": 2,
   "id": "a22d20c4",
   "metadata": {},
   "outputs": [],
   "source": [
    "x,y = make_regression(n_samples=1000,n_features=3)"
   ]
  },
  {
   "cell_type": "code",
   "execution_count": 3,
   "id": "c7580eef",
   "metadata": {},
   "outputs": [
    {
     "data": {
      "text/plain": [
       "array([[-0.493316  ,  1.48357708, -1.02790857],\n",
       "       [-1.30940074,  0.95776817,  0.9321253 ],\n",
       "       [-1.28972712,  0.67805674, -1.4697529 ],\n",
       "       ...,\n",
       "       [-1.12536132,  0.56528364,  0.82450267],\n",
       "       [-1.57857153, -0.78542267,  0.22440686],\n",
       "       [-1.00439148, -0.93180321,  0.28505731]])"
      ]
     },
     "execution_count": 3,
     "metadata": {},
     "output_type": "execute_result"
    }
   ],
   "source": [
    "x"
   ]
  },
  {
   "cell_type": "code",
   "execution_count": 4,
   "id": "2a89f4ac",
   "metadata": {},
   "outputs": [
    {
     "data": {
      "text/plain": [
       "(1000,)"
      ]
     },
     "execution_count": 4,
     "metadata": {},
     "output_type": "execute_result"
    }
   ],
   "source": [
    "y.shape"
   ]
  },
  {
   "cell_type": "code",
   "execution_count": 5,
   "id": "97f87883",
   "metadata": {},
   "outputs": [],
   "source": [
    "import pandas as pd "
   ]
  },
  {
   "cell_type": "code",
   "execution_count": 6,
   "id": "a61a11d1",
   "metadata": {},
   "outputs": [
    {
     "data": {
      "text/html": [
       "<div>\n",
       "<style scoped>\n",
       "    .dataframe tbody tr th:only-of-type {\n",
       "        vertical-align: middle;\n",
       "    }\n",
       "\n",
       "    .dataframe tbody tr th {\n",
       "        vertical-align: top;\n",
       "    }\n",
       "\n",
       "    .dataframe thead th {\n",
       "        text-align: right;\n",
       "    }\n",
       "</style>\n",
       "<table border=\"1\" class=\"dataframe\">\n",
       "  <thead>\n",
       "    <tr style=\"text-align: right;\">\n",
       "      <th></th>\n",
       "      <th>x1</th>\n",
       "      <th>x2</th>\n",
       "      <th>x3</th>\n",
       "      <th>Target</th>\n",
       "    </tr>\n",
       "  </thead>\n",
       "  <tbody>\n",
       "    <tr>\n",
       "      <th>0</th>\n",
       "      <td>-0.493316</td>\n",
       "      <td>1.483577</td>\n",
       "      <td>-1.027909</td>\n",
       "      <td>-31.988022</td>\n",
       "    </tr>\n",
       "    <tr>\n",
       "      <th>1</th>\n",
       "      <td>-1.309401</td>\n",
       "      <td>0.957768</td>\n",
       "      <td>0.932125</td>\n",
       "      <td>29.363226</td>\n",
       "    </tr>\n",
       "    <tr>\n",
       "      <th>2</th>\n",
       "      <td>-1.289727</td>\n",
       "      <td>0.678057</td>\n",
       "      <td>-1.469753</td>\n",
       "      <td>-144.526829</td>\n",
       "    </tr>\n",
       "    <tr>\n",
       "      <th>3</th>\n",
       "      <td>-0.617911</td>\n",
       "      <td>0.456016</td>\n",
       "      <td>2.283185</td>\n",
       "      <td>138.761874</td>\n",
       "    </tr>\n",
       "    <tr>\n",
       "      <th>4</th>\n",
       "      <td>-1.737917</td>\n",
       "      <td>-0.120934</td>\n",
       "      <td>-1.634894</td>\n",
       "      <td>-217.683820</td>\n",
       "    </tr>\n",
       "    <tr>\n",
       "      <th>...</th>\n",
       "      <td>...</td>\n",
       "      <td>...</td>\n",
       "      <td>...</td>\n",
       "      <td>...</td>\n",
       "    </tr>\n",
       "    <tr>\n",
       "      <th>995</th>\n",
       "      <td>0.010958</td>\n",
       "      <td>-0.759977</td>\n",
       "      <td>1.410301</td>\n",
       "      <td>62.043690</td>\n",
       "    </tr>\n",
       "    <tr>\n",
       "      <th>996</th>\n",
       "      <td>1.161964</td>\n",
       "      <td>0.734095</td>\n",
       "      <td>-1.852038</td>\n",
       "      <td>-24.489481</td>\n",
       "    </tr>\n",
       "    <tr>\n",
       "      <th>997</th>\n",
       "      <td>-1.125361</td>\n",
       "      <td>0.565284</td>\n",
       "      <td>0.824503</td>\n",
       "      <td>15.274563</td>\n",
       "    </tr>\n",
       "    <tr>\n",
       "      <th>998</th>\n",
       "      <td>-1.578572</td>\n",
       "      <td>-0.785423</td>\n",
       "      <td>0.224407</td>\n",
       "      <td>-112.305659</td>\n",
       "    </tr>\n",
       "    <tr>\n",
       "      <th>999</th>\n",
       "      <td>-1.004391</td>\n",
       "      <td>-0.931803</td>\n",
       "      <td>0.285057</td>\n",
       "      <td>-81.172203</td>\n",
       "    </tr>\n",
       "  </tbody>\n",
       "</table>\n",
       "<p>1000 rows × 4 columns</p>\n",
       "</div>"
      ],
      "text/plain": [
       "           x1        x2        x3      Target\n",
       "0   -0.493316  1.483577 -1.027909  -31.988022\n",
       "1   -1.309401  0.957768  0.932125   29.363226\n",
       "2   -1.289727  0.678057 -1.469753 -144.526829\n",
       "3   -0.617911  0.456016  2.283185  138.761874\n",
       "4   -1.737917 -0.120934 -1.634894 -217.683820\n",
       "..        ...       ...       ...         ...\n",
       "995  0.010958 -0.759977  1.410301   62.043690\n",
       "996  1.161964  0.734095 -1.852038  -24.489481\n",
       "997 -1.125361  0.565284  0.824503   15.274563\n",
       "998 -1.578572 -0.785423  0.224407 -112.305659\n",
       "999 -1.004391 -0.931803  0.285057  -81.172203\n",
       "\n",
       "[1000 rows x 4 columns]"
      ]
     },
     "execution_count": 6,
     "metadata": {},
     "output_type": "execute_result"
    }
   ],
   "source": [
    "x=pd.DataFrame(x,columns=['x1','x2','x3']) \n",
    "y=pd.DataFrame(y,columns=['Target'])\n",
    "df=pd.concat([x,y],axis=1,join='inner')\n",
    "df"
   ]
  },
  {
   "cell_type": "code",
   "execution_count": 7,
   "id": "4476f178",
   "metadata": {},
   "outputs": [
    {
     "data": {
      "text/html": [
       "<div>\n",
       "<style scoped>\n",
       "    .dataframe tbody tr th:only-of-type {\n",
       "        vertical-align: middle;\n",
       "    }\n",
       "\n",
       "    .dataframe tbody tr th {\n",
       "        vertical-align: top;\n",
       "    }\n",
       "\n",
       "    .dataframe thead th {\n",
       "        text-align: right;\n",
       "    }\n",
       "</style>\n",
       "<table border=\"1\" class=\"dataframe\">\n",
       "  <thead>\n",
       "    <tr style=\"text-align: right;\">\n",
       "      <th></th>\n",
       "      <th>x1</th>\n",
       "      <th>x2</th>\n",
       "      <th>x3</th>\n",
       "    </tr>\n",
       "  </thead>\n",
       "  <tbody>\n",
       "    <tr>\n",
       "      <th>x1</th>\n",
       "      <td>1.000000</td>\n",
       "      <td>-0.023642</td>\n",
       "      <td>0.050027</td>\n",
       "    </tr>\n",
       "    <tr>\n",
       "      <th>x2</th>\n",
       "      <td>-0.023642</td>\n",
       "      <td>1.000000</td>\n",
       "      <td>0.019124</td>\n",
       "    </tr>\n",
       "    <tr>\n",
       "      <th>x3</th>\n",
       "      <td>0.050027</td>\n",
       "      <td>0.019124</td>\n",
       "      <td>1.000000</td>\n",
       "    </tr>\n",
       "  </tbody>\n",
       "</table>\n",
       "</div>"
      ],
      "text/plain": [
       "          x1        x2        x3\n",
       "x1  1.000000 -0.023642  0.050027\n",
       "x2 -0.023642  1.000000  0.019124\n",
       "x3  0.050027  0.019124  1.000000"
      ]
     },
     "execution_count": 7,
     "metadata": {},
     "output_type": "execute_result"
    }
   ],
   "source": [
    "x.corr()"
   ]
  },
  {
   "cell_type": "code",
   "execution_count": 8,
   "id": "bcb2643f",
   "metadata": {},
   "outputs": [],
   "source": [
    "import matplotlib.pyplot as plt"
   ]
  },
  {
   "cell_type": "code",
   "execution_count": 9,
   "id": "30887951",
   "metadata": {},
   "outputs": [
    {
     "data": {
      "text/plain": [
       "<matplotlib.collections.PathCollection at 0x1f1e88ce970>"
      ]
     },
     "execution_count": 9,
     "metadata": {},
     "output_type": "execute_result"
    },
    {
     "data": {
      "image/png": "[encoded data removed]",
      "text/plain": [
       "<Figure size 432x288 with 3 Axes>"
      ]
     },
     "metadata": {
      "needs_background": "light"
     },
     "output_type": "display_data"
    }
   ],
   "source": [
    "plt.figure\n",
    "plt.subplot(1,3,1)\n",
    "plt.scatter(df['x1'],df['Target'],color='red')\n",
    "plt.subplot(1,3,2)\n",
    "plt.scatter(df['x2'],df['Target'],color='green')\n",
    "plt.subplot(1,3,3)\n",
    "plt.scatter(df['x3'],df['Target'])"
   ]
  },
  {
   "cell_type": "code",
   "execution_count": 10,
   "id": "b87adf79",
   "metadata": {},
   "outputs": [],
   "source": [
    "from sklearn.linear_model import LinearRegression"
   ]
  },
  {
   "cell_type": "code",
   "execution_count": 14,
   "id": "f1f87c38",
   "metadata": {},
   "outputs": [],
   "source": [
    "lr=LinearRegression()"
   ]
  },
  {
   "cell_type": "code",
   "execution_count": 17,
   "id": "10569487",
   "metadata": {},
   "outputs": [
    {
     "data": {
      "text/plain": [
       "LinearRegression()"
      ]
     },
     "execution_count": 17,
     "metadata": {},
     "output_type": "execute_result"
    }
   ],
   "source": [
    "lr.fit(df.iloc[:,0:3],df.iloc[:,-1])"
   ]
  },
  {
   "cell_type": "code",
   "execution_count": 18,
   "id": "d0232f42",
   "metadata": {},
   "outputs": [
    {
     "data": {
      "text/plain": [
       "array([58.48829955, 44.76795623, 67.66314061])"
      ]
     },
     "execution_count": 18,
     "metadata": {},
     "output_type": "execute_result"
    }
   ],
   "source": [
    "lr.coef_"
   ]
  },
  {
   "cell_type": "code",
   "execution_count": 19,
   "id": "df16d22e",
   "metadata": {},
   "outputs": [
    {
     "data": {
      "text/plain": [
       "-1.7763568394002505e-15"
      ]
     },
     "execution_count": 19,
     "metadata": {},
     "output_type": "execute_result"
    }
   ],
   "source": [
    "lr.intercept_"
   ]
  },
  {
   "cell_type": "code",
   "execution_count": 20,
   "id": "15eb4a17",
   "metadata": {},
   "outputs": [],
   "source": [
    "m=0\n",
    "b=0\n",
    "lr=0.01\n",
    "x1=df['x1']\n",
    "y1=df['Target']"
   ]
  },
  {
   "cell_type": "code",
   "execution_count": 25,
   "id": "99b261c5",
   "metadata": {},
   "outputs": [],
   "source": [
    "import numpy as np\n",
    "def GD(x,y,b,m,lr):\n",
    "    for xi,yi in zip(x1,y1):\n",
    "        dldb = -2 * np.sum(yi-m*xi - b)\n",
    "        dldm = -2 *np.sum((yi-m*xi-b)*xi)\n",
    "        b=b-(lr*dldb)\n",
    "        m=m-(lr*dldm)\n",
    "    return m,b"
   ]
  },
  {
   "cell_type": "code",
   "execution_count": 26,
   "id": "b20c952e",
   "metadata": {},
   "outputs": [
    {
     "data": {
      "text/plain": [
       "(60.182950595785876, 6.2213366567573365)"
      ]
     },
     "execution_count": 26,
     "metadata": {},
     "output_type": "execute_result"
    }
   ],
   "source": [
    "GD(x1,y1,b,m,lr)"
   ]
  },
  {
   "cell_type": "code",
   "execution_count": null,
   "id": "01bb741b",
   "metadata": {},
   "outputs": [],
   "source": [
    "for epoch in range(600):\n",
    "    dldb = -2 * np.sum(yi-m*xi - b)\n",
    "    dldm = -2 *np.sum((yi-m*xi-b)*xi)\n",
    "    b=b-(lr*dldb)\n",
    "    m=m-(lr*dldm)"
   ]
  }
 ],
 "metadata": {
  "kernelspec": {
   "display_name": "Python 3 (ipykernel)",
   "language": "python",
   "name": "python3"
  },
  "language_info": {
   "codemirror_mode": {
    "name": "ipython",
    "version": 3
   },
   "file_extension": ".py",
   "mimetype": "text/x-python",
   "name": "python",
   "nbconvert_exporter": "python",
   "pygments_lexer": "ipython3",
   "version": "3.9.12"
  }
 },
 "nbformat": 4,
 "nbformat_minor": 5
}
